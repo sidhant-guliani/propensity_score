{
 "cells": [
  {
   "cell_type": "code",
   "execution_count": 1,
   "metadata": {},
   "outputs": [],
   "source": [
    "\n",
    "%matplotlib inline\n",
    "\n",
    "%load_ext autoreload\n",
    "%autoreload 2\n",
    "\n",
    "import os\n",
    "import numpy as np\n",
    "import pandas as pd\n",
    "import seaborn as sns\n",
    "import scipy.stats as stats\n",
    "import matplotlib.pyplot as plt\n",
    "\n",
    "from sklearn.metrics import roc_auc_score\n",
    "from sklearn.compose import ColumnTransformer\n",
    "from sklearn.preprocessing import StandardScaler\n",
    "#https://jorisvandenbossche.github.io/blog/2018/05/28/scikit-learn-columntransformer/\n",
    "from sklearn.linear_model import LogisticRegression"
   ]
  },
  {
   "cell_type": "markdown",
   "metadata": {},
   "source": [
    "# In this example age is the confounder \n",
    "###  Imagine that older people are at higher risk of cardiovascular disease (the outcome), but are also more likely to receive statins (the treatment). Age is affecting both the treatment decision, which here is whether or not to receive statins, and is also directly affecting the outcome, which is cardiovascular disease."
   ]
  },
  {
   "cell_type": "code",
   "execution_count": 46,
   "metadata": {},
   "outputs": [
    {
     "name": "stdout",
     "output_type": "stream",
     "text": [
      "(5735, 6)\n"
     ]
    },
    {
     "data": {
      "text/html": [
       "<div>\n",
       "<style scoped>\n",
       "    .dataframe tbody tr th:only-of-type {\n",
       "        vertical-align: middle;\n",
       "    }\n",
       "\n",
       "    .dataframe tbody tr th {\n",
       "        vertical-align: top;\n",
       "    }\n",
       "\n",
       "    .dataframe thead th {\n",
       "        text-align: right;\n",
       "    }\n",
       "</style>\n",
       "<table border=\"1\" class=\"dataframe\">\n",
       "  <thead>\n",
       "    <tr style=\"text-align: right;\">\n",
       "      <th></th>\n",
       "      <th>cat1</th>\n",
       "      <th>death</th>\n",
       "      <th>age</th>\n",
       "      <th>sex</th>\n",
       "      <th>meanbp1</th>\n",
       "      <th>swang1</th>\n",
       "    </tr>\n",
       "  </thead>\n",
       "  <tbody>\n",
       "    <tr>\n",
       "      <th>0</th>\n",
       "      <td>COPD</td>\n",
       "      <td>No</td>\n",
       "      <td>70.25098</td>\n",
       "      <td>Male</td>\n",
       "      <td>41.0</td>\n",
       "      <td>No RHC</td>\n",
       "    </tr>\n",
       "    <tr>\n",
       "      <th>1</th>\n",
       "      <td>MOSF w/Sepsis</td>\n",
       "      <td>Yes</td>\n",
       "      <td>78.17896</td>\n",
       "      <td>Female</td>\n",
       "      <td>63.0</td>\n",
       "      <td>RHC</td>\n",
       "    </tr>\n",
       "    <tr>\n",
       "      <th>2</th>\n",
       "      <td>MOSF w/Malignancy</td>\n",
       "      <td>No</td>\n",
       "      <td>46.09198</td>\n",
       "      <td>Female</td>\n",
       "      <td>57.0</td>\n",
       "      <td>RHC</td>\n",
       "    </tr>\n",
       "    <tr>\n",
       "      <th>3</th>\n",
       "      <td>ARF</td>\n",
       "      <td>Yes</td>\n",
       "      <td>75.33197</td>\n",
       "      <td>Female</td>\n",
       "      <td>55.0</td>\n",
       "      <td>No RHC</td>\n",
       "    </tr>\n",
       "    <tr>\n",
       "      <th>4</th>\n",
       "      <td>MOSF w/Sepsis</td>\n",
       "      <td>Yes</td>\n",
       "      <td>67.90997</td>\n",
       "      <td>Male</td>\n",
       "      <td>65.0</td>\n",
       "      <td>RHC</td>\n",
       "    </tr>\n",
       "  </tbody>\n",
       "</table>\n",
       "</div>"
      ],
      "text/plain": [
       "                cat1 death       age     sex  meanbp1  swang1\n",
       "0               COPD    No  70.25098    Male     41.0  No RHC\n",
       "1      MOSF w/Sepsis   Yes  78.17896  Female     63.0     RHC\n",
       "2  MOSF w/Malignancy    No  46.09198  Female     57.0     RHC\n",
       "3                ARF   Yes  75.33197  Female     55.0  No RHC\n",
       "4      MOSF w/Sepsis   Yes  67.90997    Male     65.0     RHC"
      ]
     },
     "execution_count": 46,
     "metadata": {},
     "output_type": "execute_result"
    }
   ],
   "source": [
    "AGE = 'age'\n",
    "MEANBP1 = 'meanbp1'\n",
    "CAT1 = 'cat1'\n",
    "SEX = 'sex'\n",
    "DEATH = 'death' # outcome variable in the raw data\n",
    "SWANG1 = 'swang1' # treatment variable in raw data\n",
    "TREATMENT = 'treatment'\n",
    "\n",
    "num_cols = [AGE, MEANBP1]\n",
    "cat_cols = [CAT1, SEX, DEATH, SWANG1]\n",
    "\n",
    "input_path = 'rhc.csv'\n",
    "dtype = {col: 'category' for col in cat_cols}\n",
    "df = pd.read_csv(input_path, usecols=num_cols + cat_cols, dtype=dtype)\n",
    "print(df.shape)\n",
    "df.head()"
   ]
  },
  {
   "cell_type": "code",
   "execution_count": 47,
   "metadata": {},
   "outputs": [
    {
     "data": {
      "text/plain": [
       "No RHC    3551\n",
       "RHC       2184\n",
       "Name: swang1, dtype: int64"
      ]
     },
     "execution_count": 47,
     "metadata": {},
     "output_type": "execute_result"
    }
   ],
   "source": [
    "# SWANG1 variable shows if the particular patient is treated or no\n",
    "df[SWANG1].value_counts()"
   ]
  },
  {
   "cell_type": "code",
   "execution_count": 48,
   "metadata": {},
   "outputs": [
    {
     "name": "stdout",
     "output_type": "stream",
     "text": [
      "{'death': {0: 'No', 1: 'Yes'}, 'swang1': {0: 'No RHC', 1: 'RHC'}, 'sex': {0: 'Female', 1: 'Male'}}\n"
     ]
    }
   ],
   "source": [
    "# some data cleaning, varibales replacement\n",
    "cat1_col_mapping = {\n",
    "    'ARF': 'arf',\n",
    "    'MOSF w/Sepsis': 'mosf_sepsis',\n",
    "    'COPD': 'copd',\n",
    "    'CHF': 'chf',\n",
    "    'Coma': 'coma',\n",
    "    'MOSF w/Malignancy': 'mosf',\n",
    "    'Cirrhosis': 'cirrhosis',\n",
    "    'Lung Cancer': 'lung_cancer',\n",
    "    'Colon Cancer': 'colon_cancer'\n",
    "}\n",
    "df[CAT1] = df[CAT1].replace(cat1_col_mapping)\n",
    "\n",
    "col_mappings = {}\n",
    "for col in (DEATH, SWANG1, SEX):\n",
    "    col_mapping = dict(enumerate(df[col].cat.categories))\n",
    "    col_mappings[col] = col_mapping\n",
    "print(col_mappings)\n",
    "\n",
    "for col in (DEATH, SWANG1, SEX):\n",
    "    df[col] = df[col].cat.codes\n",
    "\n",
    "df = df.rename({SWANG1: TREATMENT}, axis=1)\n",
    "\n"
   ]
  },
  {
   "cell_type": "code",
   "execution_count": 49,
   "metadata": {},
   "outputs": [
    {
     "data": {
      "text/html": [
       "<div>\n",
       "<style scoped>\n",
       "    .dataframe tbody tr th:only-of-type {\n",
       "        vertical-align: middle;\n",
       "    }\n",
       "\n",
       "    .dataframe tbody tr th {\n",
       "        vertical-align: top;\n",
       "    }\n",
       "\n",
       "    .dataframe thead th {\n",
       "        text-align: right;\n",
       "    }\n",
       "</style>\n",
       "<table border=\"1\" class=\"dataframe\">\n",
       "  <thead>\n",
       "    <tr style=\"text-align: right;\">\n",
       "      <th></th>\n",
       "      <th>cat1</th>\n",
       "      <th>death</th>\n",
       "      <th>age</th>\n",
       "      <th>sex</th>\n",
       "      <th>meanbp1</th>\n",
       "      <th>treatment</th>\n",
       "    </tr>\n",
       "  </thead>\n",
       "  <tbody>\n",
       "    <tr>\n",
       "      <th>0</th>\n",
       "      <td>copd</td>\n",
       "      <td>0</td>\n",
       "      <td>70.25098</td>\n",
       "      <td>1</td>\n",
       "      <td>41.0</td>\n",
       "      <td>0</td>\n",
       "    </tr>\n",
       "    <tr>\n",
       "      <th>1</th>\n",
       "      <td>mosf_sepsis</td>\n",
       "      <td>1</td>\n",
       "      <td>78.17896</td>\n",
       "      <td>0</td>\n",
       "      <td>63.0</td>\n",
       "      <td>1</td>\n",
       "    </tr>\n",
       "    <tr>\n",
       "      <th>2</th>\n",
       "      <td>mosf</td>\n",
       "      <td>0</td>\n",
       "      <td>46.09198</td>\n",
       "      <td>0</td>\n",
       "      <td>57.0</td>\n",
       "      <td>1</td>\n",
       "    </tr>\n",
       "    <tr>\n",
       "      <th>3</th>\n",
       "      <td>arf</td>\n",
       "      <td>1</td>\n",
       "      <td>75.33197</td>\n",
       "      <td>0</td>\n",
       "      <td>55.0</td>\n",
       "      <td>0</td>\n",
       "    </tr>\n",
       "    <tr>\n",
       "      <th>4</th>\n",
       "      <td>mosf_sepsis</td>\n",
       "      <td>1</td>\n",
       "      <td>67.90997</td>\n",
       "      <td>1</td>\n",
       "      <td>65.0</td>\n",
       "      <td>1</td>\n",
       "    </tr>\n",
       "  </tbody>\n",
       "</table>\n",
       "</div>"
      ],
      "text/plain": [
       "          cat1  death       age  sex  meanbp1  treatment\n",
       "0         copd      0  70.25098    1     41.0          0\n",
       "1  mosf_sepsis      1  78.17896    0     63.0          1\n",
       "2         mosf      0  46.09198    0     57.0          1\n",
       "3          arf      1  75.33197    0     55.0          0\n",
       "4  mosf_sepsis      1  67.90997    1     65.0          1"
      ]
     },
     "execution_count": 49,
     "metadata": {},
     "output_type": "execute_result"
    }
   ],
   "source": [
    "df.head(5)"
   ]
  },
  {
   "cell_type": "code",
   "execution_count": 50,
   "metadata": {
    "scrolled": true
   },
   "outputs": [
    {
     "name": "stdout",
     "output_type": "stream",
     "text": [
      "Index(['cat1_chf', 'cat1_cirrhosis', 'cat1_colon_cancer', 'cat1_coma',\n",
      "       'cat1_copd', 'cat1_lung_cancer', 'cat1_mosf', 'cat1_mosf_sepsis'],\n",
      "      dtype='object')\n",
      "['age', 'meanbp1']\n",
      "['cat1', 'sex', 'death', 'swang1']\n"
     ]
    }
   ],
   "source": [
    "#print(df_one_hot.head(5))\n",
    "print(df_one_hot.columns)\n",
    "print(num_cols)\n",
    "print(cat_cols)\n"
   ]
  },
  {
   "cell_type": "code",
   "execution_count": null,
   "metadata": {
    "scrolled": true
   },
   "outputs": [],
   "source": []
  },
  {
   "cell_type": "code",
   "execution_count": 52,
   "metadata": {},
   "outputs": [
    {
     "data": {
      "text/html": [
       "<div>\n",
       "<style scoped>\n",
       "    .dataframe tbody tr th:only-of-type {\n",
       "        vertical-align: middle;\n",
       "    }\n",
       "\n",
       "    .dataframe tbody tr th {\n",
       "        vertical-align: top;\n",
       "    }\n",
       "\n",
       "    .dataframe thead th {\n",
       "        text-align: right;\n",
       "    }\n",
       "</style>\n",
       "<table border=\"1\" class=\"dataframe\">\n",
       "  <thead>\n",
       "    <tr style=\"text-align: right;\">\n",
       "      <th></th>\n",
       "      <th>age</th>\n",
       "      <th>meanbp1</th>\n",
       "      <th>cat1_chf</th>\n",
       "      <th>cat1_cirrhosis</th>\n",
       "      <th>cat1_colon_cancer</th>\n",
       "      <th>cat1_coma</th>\n",
       "      <th>cat1_copd</th>\n",
       "      <th>cat1_lung_cancer</th>\n",
       "      <th>cat1_mosf</th>\n",
       "      <th>cat1_mosf_sepsis</th>\n",
       "      <th>sex</th>\n",
       "      <th>treatment</th>\n",
       "      <th>death</th>\n",
       "    </tr>\n",
       "  </thead>\n",
       "  <tbody>\n",
       "    <tr>\n",
       "      <th>0</th>\n",
       "      <td>70.25098</td>\n",
       "      <td>41.0</td>\n",
       "      <td>0</td>\n",
       "      <td>0</td>\n",
       "      <td>0</td>\n",
       "      <td>0</td>\n",
       "      <td>1</td>\n",
       "      <td>0</td>\n",
       "      <td>0</td>\n",
       "      <td>0</td>\n",
       "      <td>1</td>\n",
       "      <td>0</td>\n",
       "      <td>0</td>\n",
       "    </tr>\n",
       "    <tr>\n",
       "      <th>1</th>\n",
       "      <td>78.17896</td>\n",
       "      <td>63.0</td>\n",
       "      <td>0</td>\n",
       "      <td>0</td>\n",
       "      <td>0</td>\n",
       "      <td>0</td>\n",
       "      <td>0</td>\n",
       "      <td>0</td>\n",
       "      <td>0</td>\n",
       "      <td>1</td>\n",
       "      <td>0</td>\n",
       "      <td>1</td>\n",
       "      <td>1</td>\n",
       "    </tr>\n",
       "    <tr>\n",
       "      <th>2</th>\n",
       "      <td>46.09198</td>\n",
       "      <td>57.0</td>\n",
       "      <td>0</td>\n",
       "      <td>0</td>\n",
       "      <td>0</td>\n",
       "      <td>0</td>\n",
       "      <td>0</td>\n",
       "      <td>0</td>\n",
       "      <td>1</td>\n",
       "      <td>0</td>\n",
       "      <td>0</td>\n",
       "      <td>1</td>\n",
       "      <td>0</td>\n",
       "    </tr>\n",
       "    <tr>\n",
       "      <th>3</th>\n",
       "      <td>75.33197</td>\n",
       "      <td>55.0</td>\n",
       "      <td>0</td>\n",
       "      <td>0</td>\n",
       "      <td>0</td>\n",
       "      <td>0</td>\n",
       "      <td>0</td>\n",
       "      <td>0</td>\n",
       "      <td>0</td>\n",
       "      <td>0</td>\n",
       "      <td>0</td>\n",
       "      <td>0</td>\n",
       "      <td>1</td>\n",
       "    </tr>\n",
       "    <tr>\n",
       "      <th>4</th>\n",
       "      <td>67.90997</td>\n",
       "      <td>65.0</td>\n",
       "      <td>0</td>\n",
       "      <td>0</td>\n",
       "      <td>0</td>\n",
       "      <td>0</td>\n",
       "      <td>0</td>\n",
       "      <td>0</td>\n",
       "      <td>0</td>\n",
       "      <td>1</td>\n",
       "      <td>1</td>\n",
       "      <td>1</td>\n",
       "      <td>1</td>\n",
       "    </tr>\n",
       "  </tbody>\n",
       "</table>\n",
       "</div>"
      ],
      "text/plain": [
       "        age  meanbp1  cat1_chf  cat1_cirrhosis  cat1_colon_cancer  cat1_coma  \\\n",
       "0  70.25098     41.0         0               0                  0          0   \n",
       "1  78.17896     63.0         0               0                  0          0   \n",
       "2  46.09198     57.0         0               0                  0          0   \n",
       "3  75.33197     55.0         0               0                  0          0   \n",
       "4  67.90997     65.0         0               0                  0          0   \n",
       "\n",
       "   cat1_copd  cat1_lung_cancer  cat1_mosf  cat1_mosf_sepsis  sex  treatment  \\\n",
       "0          1                 0          0                 0    1          0   \n",
       "1          0                 0          0                 1    0          1   \n",
       "2          0                 0          1                 0    0          1   \n",
       "3          0                 0          0                 0    0          0   \n",
       "4          0                 0          0                 1    1          1   \n",
       "\n",
       "   death  \n",
       "0      0  \n",
       "1      1  \n",
       "2      0  \n",
       "3      1  \n",
       "4      1  "
      ]
     },
     "execution_count": 52,
     "metadata": {},
     "output_type": "execute_result"
    }
   ],
   "source": [
    "cat_cols = [CAT1]\n",
    "df_one_hot = pd.get_dummies(df[cat_cols], drop_first=True)\n",
    "df_cleaned = pd.concat([df[num_cols], df_one_hot, df[[SEX, TREATMENT, DEATH]]], axis=1)\n",
    "df_cleaned.head()"
   ]
  },
  {
   "cell_type": "code",
   "execution_count": 53,
   "metadata": {},
   "outputs": [
    {
     "data": {
      "text/html": [
       "<div>\n",
       "<style scoped>\n",
       "    .dataframe tbody tr th:only-of-type {\n",
       "        vertical-align: middle;\n",
       "    }\n",
       "\n",
       "    .dataframe tbody tr th {\n",
       "        vertical-align: top;\n",
       "    }\n",
       "\n",
       "    .dataframe thead tr th {\n",
       "        text-align: left;\n",
       "    }\n",
       "\n",
       "    .dataframe thead tr:last-of-type th {\n",
       "        text-align: right;\n",
       "    }\n",
       "</style>\n",
       "<table border=\"1\" class=\"dataframe\">\n",
       "  <thead>\n",
       "    <tr>\n",
       "      <th></th>\n",
       "      <th>treatment</th>\n",
       "      <th colspan=\"2\" halign=\"left\">age</th>\n",
       "      <th colspan=\"2\" halign=\"left\">meanbp1</th>\n",
       "      <th colspan=\"2\" halign=\"left\">cat1_chf</th>\n",
       "      <th colspan=\"2\" halign=\"left\">cat1_cirrhosis</th>\n",
       "      <th>cat1_colon_cancer</th>\n",
       "      <th>...</th>\n",
       "      <th colspan=\"2\" halign=\"left\">cat1_copd</th>\n",
       "      <th colspan=\"2\" halign=\"left\">cat1_lung_cancer</th>\n",
       "      <th colspan=\"2\" halign=\"left\">cat1_mosf</th>\n",
       "      <th colspan=\"2\" halign=\"left\">cat1_mosf_sepsis</th>\n",
       "      <th colspan=\"2\" halign=\"left\">sex</th>\n",
       "    </tr>\n",
       "    <tr>\n",
       "      <th></th>\n",
       "      <th>count</th>\n",
       "      <th>mean</th>\n",
       "      <th>std</th>\n",
       "      <th>mean</th>\n",
       "      <th>std</th>\n",
       "      <th>mean</th>\n",
       "      <th>std</th>\n",
       "      <th>mean</th>\n",
       "      <th>std</th>\n",
       "      <th>mean</th>\n",
       "      <th>...</th>\n",
       "      <th>mean</th>\n",
       "      <th>std</th>\n",
       "      <th>mean</th>\n",
       "      <th>std</th>\n",
       "      <th>mean</th>\n",
       "      <th>std</th>\n",
       "      <th>mean</th>\n",
       "      <th>std</th>\n",
       "      <th>mean</th>\n",
       "      <th>std</th>\n",
       "    </tr>\n",
       "    <tr>\n",
       "      <th>treatment</th>\n",
       "      <th></th>\n",
       "      <th></th>\n",
       "      <th></th>\n",
       "      <th></th>\n",
       "      <th></th>\n",
       "      <th></th>\n",
       "      <th></th>\n",
       "      <th></th>\n",
       "      <th></th>\n",
       "      <th></th>\n",
       "      <th></th>\n",
       "      <th></th>\n",
       "      <th></th>\n",
       "      <th></th>\n",
       "      <th></th>\n",
       "      <th></th>\n",
       "      <th></th>\n",
       "      <th></th>\n",
       "      <th></th>\n",
       "      <th></th>\n",
       "      <th></th>\n",
       "    </tr>\n",
       "  </thead>\n",
       "  <tbody>\n",
       "    <tr>\n",
       "      <th>0</th>\n",
       "      <td>3551</td>\n",
       "      <td>61.760926</td>\n",
       "      <td>17.287674</td>\n",
       "      <td>84.868629</td>\n",
       "      <td>38.874134</td>\n",
       "      <td>0.069558</td>\n",
       "      <td>0.254436</td>\n",
       "      <td>0.049282</td>\n",
       "      <td>0.216486</td>\n",
       "      <td>0.001690</td>\n",
       "      <td>...</td>\n",
       "      <td>0.112363</td>\n",
       "      <td>0.315857</td>\n",
       "      <td>0.009575</td>\n",
       "      <td>0.097395</td>\n",
       "      <td>0.067868</td>\n",
       "      <td>0.251555</td>\n",
       "      <td>0.148409</td>\n",
       "      <td>0.355555</td>\n",
       "      <td>0.539003</td>\n",
       "      <td>0.498547</td>\n",
       "    </tr>\n",
       "    <tr>\n",
       "      <th>1</th>\n",
       "      <td>2184</td>\n",
       "      <td>60.749836</td>\n",
       "      <td>15.630698</td>\n",
       "      <td>68.197802</td>\n",
       "      <td>34.242209</td>\n",
       "      <td>0.095696</td>\n",
       "      <td>0.294241</td>\n",
       "      <td>0.022436</td>\n",
       "      <td>0.148130</td>\n",
       "      <td>0.000458</td>\n",
       "      <td>...</td>\n",
       "      <td>0.026557</td>\n",
       "      <td>0.160821</td>\n",
       "      <td>0.002289</td>\n",
       "      <td>0.047804</td>\n",
       "      <td>0.072344</td>\n",
       "      <td>0.259117</td>\n",
       "      <td>0.320513</td>\n",
       "      <td>0.466781</td>\n",
       "      <td>0.585165</td>\n",
       "      <td>0.492806</td>\n",
       "    </tr>\n",
       "  </tbody>\n",
       "</table>\n",
       "<p>2 rows × 23 columns</p>\n",
       "</div>"
      ],
      "text/plain": [
       "          treatment        age               meanbp1             cat1_chf  \\\n",
       "              count       mean        std       mean        std      mean   \n",
       "treatment                                                                   \n",
       "0              3551  61.760926  17.287674  84.868629  38.874134  0.069558   \n",
       "1              2184  60.749836  15.630698  68.197802  34.242209  0.095696   \n",
       "\n",
       "                    cat1_cirrhosis           cat1_colon_cancer    ...     \\\n",
       "                std           mean       std              mean    ...      \n",
       "treatment                                                         ...      \n",
       "0          0.254436       0.049282  0.216486          0.001690    ...      \n",
       "1          0.294241       0.022436  0.148130          0.000458    ...      \n",
       "\n",
       "          cat1_copd           cat1_lung_cancer           cat1_mosf            \\\n",
       "               mean       std             mean       std      mean       std   \n",
       "treatment                                                                      \n",
       "0          0.112363  0.315857         0.009575  0.097395  0.067868  0.251555   \n",
       "1          0.026557  0.160821         0.002289  0.047804  0.072344  0.259117   \n",
       "\n",
       "          cat1_mosf_sepsis                 sex            \n",
       "                      mean       std      mean       std  \n",
       "treatment                                                 \n",
       "0                 0.148409  0.355555  0.539003  0.498547  \n",
       "1                 0.320513  0.466781  0.585165  0.492806  \n",
       "\n",
       "[2 rows x 23 columns]"
      ]
     },
     "execution_count": 53,
     "metadata": {},
     "output_type": "execute_result"
    }
   ],
   "source": [
    "# cool way to get the data summary of the columns in table base don treatement\n",
    "features = df_cleaned.columns.tolist()\n",
    "features.remove(TREATMENT)\n",
    "features.remove(DEATH)\n",
    "agg_operations = {TREATMENT: 'count'}\n",
    "agg_operations.update({\n",
    "    feature: ['mean', 'std'] for feature in features})\n",
    "\n",
    "table_one = df_cleaned.groupby(TREATMENT).agg(agg_operations)\n",
    "# merge MultiIndex columns together into 1 level\n",
    "# table_one.columns = ['_'.join(col) for col in table_one.columns.values]\n",
    "table_one.head()\n"
   ]
  },
  {
   "cell_type": "code",
   "execution_count": null,
   "metadata": {},
   "outputs": [],
   "source": [
    "def compute_table_one_smd(table_one: pd.DataFrame, round_digits: int=4):\n",
    "    feature_smds = []\n",
    "    for feature in features:\n",
    "        feature_table_one = table_one[feature].values\n",
    "        neg_mean = feature_table_one[0, 0]\n",
    "        neg_std = feature_table_one[0, 1]\n",
    "        pos_mean = feature_table_one[1, 0]\n",
    "        pos_std = feature_table_one[1, 1]\n",
    "\n",
    "        smd = (pos_mean - neg_mean) / np.sqrt((pos_std ** 2 + neg_std ** 2) / 2)\n",
    "        smd = round(abs(smd), round_digits)\n",
    "        feature_smds.append(smd)\n",
    "\n",
    "    return pd.DataFrame({'features': features, 'smd': feature_smds})\n",
    "\n",
    "\n",
    "table_one_smd = compute_table_one_smd(table_one)\n",
    "table_one_smd"
   ]
  },
  {
   "cell_type": "code",
   "execution_count": 54,
   "metadata": {},
   "outputs": [],
   "source": [
    "feature_table_one = table_one['meanbp1'].values"
   ]
  },
  {
   "cell_type": "code",
   "execution_count": 55,
   "metadata": {},
   "outputs": [
    {
     "data": {
      "text/plain": [
       "array([[84.86862856, 38.87413407],\n",
       "       [68.1978022 , 34.24220907]])"
      ]
     },
     "execution_count": 55,
     "metadata": {},
     "output_type": "execute_result"
    }
   ],
   "source": [
    "feature_table_one"
   ]
  },
  {
   "cell_type": "code",
   "execution_count": 56,
   "metadata": {},
   "outputs": [
    {
     "data": {
      "text/plain": [
       "(5735, 11)"
      ]
     },
     "execution_count": 56,
     "metadata": {},
     "output_type": "execute_result"
    }
   ],
   "source": [
    "# treatment as the variable to estimate the propensity score\n",
    "# death = outcome that we care about\n",
    "\n",
    "outcome = df_cleaned[DEATH]\n",
    "treatment = df_cleaned[TREATMENT]\n",
    "df_cleaned = df_cleaned.drop([DEATH, TREATMENT], axis=1)\n",
    "\n",
    "ct = ColumnTransformer(\n",
    "    [('numerical', StandardScaler(), num_cols)],\n",
    "    sparse_threshold=0,\n",
    "    remainder='passthrough'\n",
    ")\n",
    "data = ct.fit_transform(df_cleaned)\n",
    "data.shape\n"
   ]
  },
  {
   "cell_type": "code",
   "execution_count": 57,
   "metadata": {},
   "outputs": [
    {
     "data": {
      "text/plain": [
       "(5735, 11)"
      ]
     },
     "execution_count": 57,
     "metadata": {},
     "output_type": "execute_result"
    }
   ],
   "source": [
    "df_cleaned.shape"
   ]
  },
  {
   "cell_type": "code",
   "execution_count": 43,
   "metadata": {},
   "outputs": [
    {
     "data": {
      "text/plain": [
       "array([[0. , 1. , 0.5, 0.5],\n",
       "       [0.5, 0.5, 0. , 1. ]])"
      ]
     },
     "execution_count": 43,
     "metadata": {},
     "output_type": "execute_result"
    }
   ],
   "source": [
    "\n",
    "from sklearn.preprocessing import Normalizer\n",
    "ct = ColumnTransformer(\n",
    "     [(\"norm1\", Normalizer(norm='l1'), [0, 1]),\n",
    "      (\"norm2\", Normalizer(norm='l1'), slice(2, 4))])\n",
    "X = np.array([[0., 1., 2., 2.],\n",
    "               [1., 1., 0., 1.]])\n",
    "# Normalizer scales each row of X to unit norm. A separate scaling\n",
    "# is applied for the two first and two last elements of each\n",
    "# row independently.\n",
    "ct.fit_transform(X)\n"
   ]
  },
  {
   "cell_type": "code",
   "execution_count": null,
   "metadata": {},
   "outputs": [],
   "source": []
  }
 ],
 "metadata": {
  "kernelspec": {
   "display_name": "Python 3",
   "language": "python",
   "name": "python3"
  },
  "language_info": {
   "codemirror_mode": {
    "name": "ipython",
    "version": 3
   },
   "file_extension": ".py",
   "mimetype": "text/x-python",
   "name": "python",
   "nbconvert_exporter": "python",
   "pygments_lexer": "ipython3",
   "version": "3.7.1"
  }
 },
 "nbformat": 4,
 "nbformat_minor": 2
}
